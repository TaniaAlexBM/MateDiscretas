{
  "nbformat": 4,
  "nbformat_minor": 0,
  "metadata": {
    "colab": {
      "name": "Bootcamp de Introducción a la Programación - Matemáticas Discretas",
      "provenance": []
    },
    "kernelspec": {
      "name": "python3",
      "display_name": "Python 3"
    },
    "language_info": {
      "name": "python"
    }
  },
  "cells": [
    {
      "cell_type": "markdown",
      "source": [
        "# Matemáticas Discretas\n",
        "\n",
        "¡Hola! Bienvenidxs a la última sesión del módulo de Matemáticas Discretas. En esta sesión estaremos utilizando lo que hemos visto hasta el momento pero implementándolo en Python.\n",
        "\n",
        "Esta libreta de Google Colaboratory está dividida en dos secciónes:\n",
        "1. **Lógica Proposicional:** \n",
        "  * Repaso de Lógica Proposicional con sus tablas de verdad en Python.\n",
        "  * Creación de nuevas tablas de verdad.\n",
        "  * Ejercicios donde sea necesario resolver mediante lógica proposicional.\n",
        "2. **Teoría de Conjuntos:**\n",
        "  * Repaso de Teoría de Conjuntos con Python.\n",
        "  * Ejercicios donde se puedan visualizar conjuntos.\n",
        "  * Simulación de SQL en Python.\n",
        "\n",
        "El contenido de **Teoría de Grafos** se enviará esta semana en otra libreta de Google Colaboratory y te hará un tutorial de cómo manejar algunos conceptos de grafos en Python. Además, en la misma libreta de Colab te daré algunas ideas de proyectos guiados que pudieran ayudarte a iniciar en Ciencia de Datos en caso de que estés interesadx.\n",
        "\n",
        "Antes de continuar, te pediremos que corras la siguiente celda para que puedas incializar todas las paqueterías de Python que estaremos utilizando (Pandas y Numpy). Es necesario correr las celdas porque si no el resto del colab pudiera tener problemas."
      ],
      "metadata": {
        "id": "vWqaKTj4y7Ta"
      }
    },
    {
      "cell_type": "code",
      "source": [
        "# @title Instalación de paqueterías y actualizaciones necesarias para hacer los ejercicios\n",
        "\n",
        "# Actualizar librerías\n",
        "!pip install pandas --upgrade --quiet\n",
        "!pip install numpy --upgrade --quiet\n",
        "\n",
        "import pandas as pd\n",
        "import numpy as np\n",
        "import itertools\n"
      ],
      "metadata": {
        "id": "CyPv7cjHd4Kx"
      },
      "execution_count": 1,
      "outputs": []
    },
    {
      "cell_type": "markdown",
      "source": [
        "# Lógica Proposicional"
      ],
      "metadata": {
        "id": "-PFcCRgTzRxK"
      }
    },
    {
      "cell_type": "code",
      "source": [
        "# @title Inicialización de Variables\n",
        "\n",
        "# Variables que usaremos para las proposiciones: A, B, C, P, Q, R.\n",
        "C = [True, False]\n",
        "A = [True, True, False, False]\n",
        "B = [True, False, True, False]\n",
        "P = [True, True, True, True, False, False, False, False]\n",
        "Q = [True, True, False, False, True, True, False, False]\n",
        "R = [True, False, True, False, True, False, True, False]"
      ],
      "metadata": {
        "id": "AqQe7S3M1K50"
      },
      "execution_count": 2,
      "outputs": []
    },
    {
      "cell_type": "markdown",
      "source": [
        "## Repaso de Lógica Proposicional\n",
        "\n",
        "Recordemos que los operadores lógicos son:\n",
        "1. Negación (NOT)\n",
        "2. Conjunción (AND)\n",
        "3. Disyunción (OR)\n",
        "4. Disyunción exclusiva (XOR)\n",
        "5. (Buffer)\n",
        "6. (NAND)\n",
        "7. (NOR)\n",
        "8. (XNOR)\n",
        "9. Condicional (THEN)\n",
        "10. Bicondicional (IFF)"
      ],
      "metadata": {
        "id": "UzrmbH6WqdTd"
      }
    },
    {
      "cell_type": "markdown",
      "source": [
        "### Negación (Not)\n",
        "La tabla de verdad asociada a la operación booleana `not` es la siguiente:\n",
        "\n",
        "|  C  | not C |\n",
        "|:---:|:-----:|\n",
        "|  T  |   F   |\n",
        "|  F  |   T   |"
      ],
      "metadata": {
        "id": "3CCBoN6B4bYF"
      }
    },
    {
      "cell_type": "code",
      "source": [
        "########################################################################\n",
        "## POR HACER por los estudiantes\n",
        "## Completa todos los ... en el código debajo y quita la siguiente línea\n",
        "\n",
        "# raise NotImplementedError(\"Aplica el operador lógico.\")\n",
        "########################################################################\n",
        "\n",
        "notC = [None]*2 # guarda dos valores que no tienen valor\n",
        "for i in range(2):\n",
        "  notC[i] = not C[i]\n",
        "\n",
        "print(notC)"
      ],
      "metadata": {
        "id": "nEPXs1mD5TNX",
        "colab": {
          "base_uri": "https://localhost:8080/"
        },
        "outputId": "a6be6b62-b80b-47fc-e87b-a6a460e07d50"
      },
      "execution_count": 3,
      "outputs": [
        {
          "output_type": "stream",
          "name": "stdout",
          "text": [
            "[False, True]\n"
          ]
        }
      ]
    },
    {
      "cell_type": "code",
      "source": [
        "########################################################################\n",
        "## POR HACER por los estudiantes\n",
        "## Completa todos los ... en el código debajo y quita la siguiente línea\n",
        "\n",
        "# raise NotImplementedError(\"Convierte a dataframe e imprìmelo.\")\n",
        "########################################################################\n",
        "\n",
        "tablaNOT = {'C': C, 'Not C': notC}\n",
        "tablaNOT_df = pd.DataFrame(tablaNOT)\n",
        "\n",
        "print(tablaNOT_df)"
      ],
      "metadata": {
        "id": "Lc8lUyoq5hrH",
        "colab": {
          "base_uri": "https://localhost:8080/"
        },
        "outputId": "6c7d0b69-4c26-4177-8978-43d95fc2e3db"
      },
      "execution_count": 4,
      "outputs": [
        {
          "output_type": "stream",
          "name": "stdout",
          "text": [
            "       C  Not C\n",
            "0   True  False\n",
            "1  False   True\n"
          ]
        }
      ]
    },
    {
      "cell_type": "markdown",
      "source": [
        "### Conjunción (And)\n",
        "La tabla de verdad asociada a la operación booleana `and` es la siguiente:\n",
        "\n",
        "|  A  |  B  | A and B |\n",
        "|:---:|:---:|:-------:|\n",
        "|  T  |  T  |    T    |\n",
        "|  T  |  F  |    F    |\n",
        "|  F  |  T  |    F    |\n",
        "|  F  |  F  |    F    |"
      ],
      "metadata": {
        "id": "8M6EoK_G2vQq"
      }
    },
    {
      "cell_type": "code",
      "source": [
        "########################################################################\n",
        "## POR HACER por los estudiantes\n",
        "## Completa todos los ... en el código debajo y quita la siguiente línea\n",
        "# raise NotImplementedError(\"Aplica el operador lógico.\")\n",
        "########################################################################\n",
        "\n",
        "AandB = [None]*4\n",
        "for i in range(4):\n",
        "  AandB[i] = A[i] and B[i]\n",
        "\n",
        "print(AandB)"
      ],
      "metadata": {
        "id": "0U767LGK3jWR",
        "colab": {
          "base_uri": "https://localhost:8080/"
        },
        "outputId": "743c5583-37b1-43b1-b4d5-e1bfd628cc54"
      },
      "execution_count": 5,
      "outputs": [
        {
          "output_type": "stream",
          "name": "stdout",
          "text": [
            "[True, False, False, False]\n"
          ]
        }
      ]
    },
    {
      "cell_type": "code",
      "source": [
        "########################################################################\n",
        "## POR HACER por los estudiantes\n",
        "## Completa todos los ... en el código debajo y quita la siguiente línea\n",
        "# raise NotImplementedError(\"Convierte a dataframe e imprìmelo.\")\n",
        "########################################################################\n",
        "\n",
        "tablaAND = {'A': A, 'B': B, 'A and B': AandB}\n",
        "tablaAND_df = pd.DataFrame(tablaAND)\n",
        "\n",
        "print(tablaAND_df)"
      ],
      "metadata": {
        "id": "yZ9iTi0Re6-m",
        "colab": {
          "base_uri": "https://localhost:8080/"
        },
        "outputId": "668075a4-a251-4c7d-f722-fbe9439ab0bb"
      },
      "execution_count": 6,
      "outputs": [
        {
          "output_type": "stream",
          "name": "stdout",
          "text": [
            "       A      B  A and B\n",
            "0   True   True     True\n",
            "1   True  False    False\n",
            "2  False   True    False\n",
            "3  False  False    False\n"
          ]
        }
      ]
    },
    {
      "cell_type": "markdown",
      "source": [
        "### Disyunción (Or)\n",
        "La tabla de verdad asociada a la operación booleana `or` es la siguiente:\n",
        "\n",
        "|  A  |  B  | A or B  |\n",
        "|:---:|:---:|:-------:|\n",
        "|  T  |  T  |    T    |\n",
        "|  T  |  F  |    T    |\n",
        "|  F  |  T  |    T    |\n",
        "|  F  |  F  |    F    |"
      ],
      "metadata": {
        "id": "jTkhXXai2mWP"
      }
    },
    {
      "cell_type": "code",
      "source": [
        "########################################################################\n",
        "## POR HACER por los estudiantes\n",
        "## Completa todos los ... en el código debajo y quita la siguiente línea\n",
        "# raise NotImplementedError(\"Aplica el operador lógico.\")\n",
        "########################################################################\n",
        "\n",
        "AorB = [None]*4\n",
        "for i in range(4):\n",
        "  AorB[i] = A[i] or B[i]\n",
        "\n",
        "print(AorB)"
      ],
      "metadata": {
        "id": "hl3hFkwc26o4",
        "colab": {
          "base_uri": "https://localhost:8080/"
        },
        "outputId": "9048c391-726d-463d-c1c5-8ac1e4217d9e"
      },
      "execution_count": 7,
      "outputs": [
        {
          "output_type": "stream",
          "name": "stdout",
          "text": [
            "[True, True, True, False]\n"
          ]
        }
      ]
    },
    {
      "cell_type": "code",
      "source": [
        "########################################################################\n",
        "## POR HACER por los estudiantes\n",
        "## Completa todos los ... en el código debajo y quita la siguiente línea\n",
        "# raise NotImplementedError(\"Convierte a dataframe e imprìmelo.\")\n",
        "########################################################################\n",
        "\n",
        "tablaOR = {'A': A, 'B': B, 'A or B': AorB}\n",
        "tablaOR_df = pd.DataFrame(tablaOR)\n",
        "\n",
        "print(tablaOR_df)"
      ],
      "metadata": {
        "id": "QfNAJBrm0iKF",
        "colab": {
          "base_uri": "https://localhost:8080/"
        },
        "outputId": "bd1ac401-8376-483a-d9c8-afc4ad222cdf"
      },
      "execution_count": 8,
      "outputs": [
        {
          "output_type": "stream",
          "name": "stdout",
          "text": [
            "       A      B  A or B\n",
            "0   True   True    True\n",
            "1   True  False    True\n",
            "2  False   True    True\n",
            "3  False  False   False\n"
          ]
        }
      ]
    },
    {
      "cell_type": "markdown",
      "source": [
        "### Disyunción exclusiva (XOR)\n",
        "La tabla de verdad asociada a la operación booleana `xor` es la siguiente:\n",
        "\n",
        "|  A  |  B  | A xor B |\n",
        "|:---:|:---:|:-------:|\n",
        "|  T  |  T  |    F    |\n",
        "|  T  |  F  |    T    |\n",
        "|  F  |  T  |    T    |\n",
        "|  F  |  F  |    F    |"
      ],
      "metadata": {
        "id": "ZD7eXbRWhvWk"
      }
    },
    {
      "cell_type": "code",
      "source": [
        "########################################################################\n",
        "## POR HACER por los estudiantes\n",
        "## Completa todos los ... en el código debajo y quita la siguiente línea\n",
        "# raise NotImplementedError(\"Aplica el operador lógico.\")\n",
        "########################################################################\n",
        "\n",
        "AxorB = [None]*4\n",
        "for i in range(4):\n",
        "  AxorB[i] = A[i] ^ B[i]\n",
        "\n",
        "print(AxorB)"
      ],
      "metadata": {
        "id": "RGctWDb1hy5z",
        "colab": {
          "base_uri": "https://localhost:8080/"
        },
        "outputId": "46a76ff7-a7a6-4f08-e741-b7bb92524844"
      },
      "execution_count": 9,
      "outputs": [
        {
          "output_type": "stream",
          "name": "stdout",
          "text": [
            "[False, True, True, False]\n"
          ]
        }
      ]
    },
    {
      "cell_type": "code",
      "source": [
        "########################################################################\n",
        "## POR HACER por los estudiantes\n",
        "## Completa todos los ... en el código debajo y quita la siguiente línea\n",
        "# raise NotImplementedError(\"Convierte a dataframe e imprìmelo.\")\n",
        "########################################################################\n",
        "\n",
        "tablaXOR = {'A': A, 'B': B, 'A xor B': AxorB}\n",
        "tablaXOR_df = pd.DataFrame(tablaXOR)\n",
        "\n",
        "print(tablaXOR_df)"
      ],
      "metadata": {
        "id": "jbvqfl2NiK5R",
        "colab": {
          "base_uri": "https://localhost:8080/"
        },
        "outputId": "94e28763-9db6-4c3f-ab43-64f7624ffb2e"
      },
      "execution_count": 10,
      "outputs": [
        {
          "output_type": "stream",
          "name": "stdout",
          "text": [
            "       A      B  A xor B\n",
            "0   True   True    False\n",
            "1   True  False     True\n",
            "2  False   True     True\n",
            "3  False  False    False\n"
          ]
        }
      ]
    },
    {
      "cell_type": "markdown",
      "source": [
        "### NAND\n",
        "\n",
        "La tabla de verdad asociada a la operación booleana `nand` es la siguiente:\n",
        "\n",
        "|  A  |  B  | A nand B|\n",
        "|:---:|:---:|:-------:|\n",
        "|  T  |  T  |    F    |\n",
        "|  T  |  F  |    T    |\n",
        "|  F  |  T  |    T    |\n",
        "|  F  |  F  |    T    |"
      ],
      "metadata": {
        "id": "7Ow3H7vAb58o"
      }
    },
    {
      "cell_type": "code",
      "source": [
        "########################################################################\n",
        "## POR HACER por los estudiantes\n",
        "## Completa todos los ... en el código debajo y quita la siguiente línea\n",
        "# raise NotImplementedError(\"Aplica el operador lógico.\")\n",
        "########################################################################\n",
        "\n",
        "AnandB = [None]*4\n",
        "for i in range(4):\n",
        "  AnandB[i] = not (A[i] and B[i])\n",
        "\n",
        "print(AnandB)"
      ],
      "metadata": {
        "id": "WhxlOCWgcEqO",
        "colab": {
          "base_uri": "https://localhost:8080/"
        },
        "outputId": "e7ef6536-0cf0-4d84-98b6-4783e18f34ff"
      },
      "execution_count": 11,
      "outputs": [
        {
          "output_type": "stream",
          "name": "stdout",
          "text": [
            "[False, True, True, True]\n"
          ]
        }
      ]
    },
    {
      "cell_type": "code",
      "source": [
        "########################################################################\n",
        "## POR HACER por los estudiantes\n",
        "## Completa todos los ... en el código debajo y quita la siguiente línea\n",
        "# raise NotImplementedError(\"Convierte a dataframe e imprìmelo.\")\n",
        "########################################################################\n",
        "\n",
        "tablaNAND = {'A': A, 'B': B, 'A nand B': AnandB}\n",
        "tablaNAND_df = pd.DataFrame(tablaNAND)\n",
        "\n",
        "print(tablaNAND_df)"
      ],
      "metadata": {
        "id": "sCPdITBccIpB",
        "colab": {
          "base_uri": "https://localhost:8080/"
        },
        "outputId": "04c11592-985f-4dbc-fad7-99f72d8d6713"
      },
      "execution_count": 12,
      "outputs": [
        {
          "output_type": "stream",
          "name": "stdout",
          "text": [
            "       A      B  A nand B\n",
            "0   True   True     False\n",
            "1   True  False      True\n",
            "2  False   True      True\n",
            "3  False  False      True\n"
          ]
        }
      ]
    },
    {
      "cell_type": "markdown",
      "source": [
        "**Observación:** Es equivalente a la operación AND negada."
      ],
      "metadata": {
        "id": "-Szq9onCpiQV"
      }
    },
    {
      "cell_type": "code",
      "source": [
        "print(tablaAND_df)"
      ],
      "metadata": {
        "id": "ek-KpmlhpiQX",
        "colab": {
          "base_uri": "https://localhost:8080/"
        },
        "outputId": "8cf5257c-ec4c-45ed-b57d-08d05ee5d12a"
      },
      "execution_count": 13,
      "outputs": [
        {
          "output_type": "stream",
          "name": "stdout",
          "text": [
            "       A      B  A and B\n",
            "0   True   True     True\n",
            "1   True  False    False\n",
            "2  False   True    False\n",
            "3  False  False    False\n"
          ]
        }
      ]
    },
    {
      "cell_type": "markdown",
      "source": [
        "### NOR\n",
        "\n",
        "La tabla de verdad asociada a la operación booleana `nor` es la siguiente:\n",
        "\n",
        "|  A  |  B  | A nor B |\n",
        "|:---:|:---:|:-------:|\n",
        "|  T  |  T  |    F    |\n",
        "|  T  |  F  |    F    |\n",
        "|  F  |  T  |    F    |\n",
        "|  F  |  F  |    T    |"
      ],
      "metadata": {
        "id": "eYUA0sT2cM7P"
      }
    },
    {
      "cell_type": "code",
      "source": [
        "########################################################################\n",
        "## POR HACER por los estudiantes\n",
        "## Completa todos los ... en el código debajo y quita la siguiente línea\n",
        "# raise NotImplementedError(\"Aplica el operador lógico.\")\n",
        "########################################################################\n",
        "\n",
        "AnorB = [None]*4\n",
        "for i in range(4):\n",
        "  AnorB[i] = not(A[i] or B[i])\n",
        "\n",
        "print(AnorB)"
      ],
      "metadata": {
        "id": "9fj8r0D5clGt",
        "colab": {
          "base_uri": "https://localhost:8080/"
        },
        "outputId": "bb7c27cb-34d6-40dd-9c13-24435dae691e"
      },
      "execution_count": 14,
      "outputs": [
        {
          "output_type": "stream",
          "name": "stdout",
          "text": [
            "[False, False, False, True]\n"
          ]
        }
      ]
    },
    {
      "cell_type": "code",
      "source": [
        "########################################################################\n",
        "## POR HACER por los estudiantes\n",
        "## Completa todos los ... en el código debajo y quita la siguiente línea\n",
        "# raise NotImplementedError(\"Convierte a dataframe e imprìmelo.\")\n",
        "########################################################################\n",
        "\n",
        "tablaNOR = {'A': A, 'B': B, 'A nor B': AnorB}\n",
        "tablaNOR_df = pd.DataFrame(tablaNOR)\n",
        "\n",
        "print(tablaNOR_df)"
      ],
      "metadata": {
        "id": "gi3vF7exctQO",
        "colab": {
          "base_uri": "https://localhost:8080/"
        },
        "outputId": "239256d9-6dac-4116-bc02-0332ebc853fe"
      },
      "execution_count": 15,
      "outputs": [
        {
          "output_type": "stream",
          "name": "stdout",
          "text": [
            "       A      B  A nor B\n",
            "0   True   True    False\n",
            "1   True  False    False\n",
            "2  False   True    False\n",
            "3  False  False     True\n"
          ]
        }
      ]
    },
    {
      "cell_type": "markdown",
      "source": [
        "**Observación:** Es equivalente a la operación OR negada."
      ],
      "metadata": {
        "id": "lECEXl6bpY_p"
      }
    },
    {
      "cell_type": "code",
      "source": [
        "print(tablaOR_df)"
      ],
      "metadata": {
        "id": "Fsoh-MyopY_r",
        "colab": {
          "base_uri": "https://localhost:8080/"
        },
        "outputId": "470535b8-045b-431a-fc10-57c2f89a095c"
      },
      "execution_count": 16,
      "outputs": [
        {
          "output_type": "stream",
          "name": "stdout",
          "text": [
            "       A      B  A or B\n",
            "0   True   True    True\n",
            "1   True  False    True\n",
            "2  False   True    True\n",
            "3  False  False   False\n"
          ]
        }
      ]
    },
    {
      "cell_type": "markdown",
      "source": [
        "### XNOR\n",
        "\n",
        "La tabla de verdad asociada a la operación booleana `xnor` es la siguiente:\n",
        "\n",
        "|  A  |  B  | A xnor B|\n",
        "|:---:|:---:|:-------:|\n",
        "|  T  |  T  |    T    |\n",
        "|  T  |  F  |    F    |\n",
        "|  F  |  T  |    F    |\n",
        "|  F  |  F  |    T    |"
      ],
      "metadata": {
        "id": "93GqmOOIcbCo"
      }
    },
    {
      "cell_type": "code",
      "source": [
        "########################################################################\n",
        "## POR HACER por los estudiantes\n",
        "## Completa todos los ... en el código debajo y quita la siguiente línea\n",
        "# raise NotImplementedError(\"Aplica el operador lógico.\")\n",
        "########################################################################\n",
        "\n",
        "AxnorB = [None]*4\n",
        "for i in range(4):\n",
        "  AxnorB[i] = not(A[i] ^ B[i])\n",
        "\n",
        "print(AxnorB)"
      ],
      "metadata": {
        "id": "s1sOB5tMcpHb",
        "colab": {
          "base_uri": "https://localhost:8080/"
        },
        "outputId": "f83be5ca-444c-4715-9670-89dc4fb6c7dc"
      },
      "execution_count": 17,
      "outputs": [
        {
          "output_type": "stream",
          "name": "stdout",
          "text": [
            "[True, False, False, True]\n"
          ]
        }
      ]
    },
    {
      "cell_type": "code",
      "source": [
        "########################################################################\n",
        "## POR HACER por los estudiantes\n",
        "## Completa todos los ... en el código debajo y quita la siguiente línea\n",
        "# raise NotImplementedError(\"Convierte a dataframe e imprìmelo.\")\n",
        "########################################################################\n",
        "\n",
        "tablaXNOR = {'A': A, 'B': B, 'A xnor B': AxnorB}\n",
        "tablaXNOR_df = pd.DataFrame(tablaXNOR)\n",
        "\n",
        "print(tablaXNOR_df)"
      ],
      "metadata": {
        "id": "SF-qYQ8Kcxhk",
        "colab": {
          "base_uri": "https://localhost:8080/"
        },
        "outputId": "7a09de62-d151-43a4-e434-96aa82a1e3a7"
      },
      "execution_count": 18,
      "outputs": [
        {
          "output_type": "stream",
          "name": "stdout",
          "text": [
            "       A      B  A xnor B\n",
            "0   True   True      True\n",
            "1   True  False     False\n",
            "2  False   True     False\n",
            "3  False  False      True\n"
          ]
        }
      ]
    },
    {
      "cell_type": "markdown",
      "source": [
        "**Observación:** Es equivalente a la operación XOR negada."
      ],
      "metadata": {
        "id": "pJENjRHqpRre"
      }
    },
    {
      "cell_type": "code",
      "source": [
        "print(tablaXOR_df)"
      ],
      "metadata": {
        "id": "raBv4wl6pRrg",
        "colab": {
          "base_uri": "https://localhost:8080/"
        },
        "outputId": "aa19ac61-ead7-40b6-d184-6db716f1d99e"
      },
      "execution_count": 19,
      "outputs": [
        {
          "output_type": "stream",
          "name": "stdout",
          "text": [
            "       A      B  A xor B\n",
            "0   True   True    False\n",
            "1   True  False     True\n",
            "2  False   True     True\n",
            "3  False  False    False\n"
          ]
        }
      ]
    },
    {
      "cell_type": "markdown",
      "source": [
        "### Condicional (THEN)\n",
        "La tabla de verdad asociada a la operación booleana `then` es la siguiente:\n",
        "\n",
        "|  A  |  B  | A then B|\n",
        "|:---:|:---:|:-------:|\n",
        "|  T  |  T  |    T    |\n",
        "|  T  |  F  |    F    |\n",
        "|  F  |  T  |    T    |\n",
        "|  F  |  F  |    T    |"
      ],
      "metadata": {
        "id": "SD91dCPQSLWd"
      }
    },
    {
      "cell_type": "code",
      "source": [
        "########################################################################\n",
        "## POR HACER por los estudiantes\n",
        "## Completa todos los ... en el código debajo y quita la siguiente línea\n",
        "#raise NotImplementedError(\"Aplica el operador lógico.\")\n",
        "########################################################################\n",
        "\n",
        "AthenB = [None]*4\n",
        "for i in range(4):\n",
        "  AthenB[i] = A[i] <= B[i]\n",
        "\n",
        "print(AthenB)"
      ],
      "metadata": {
        "id": "rPWNcobTtsot",
        "colab": {
          "base_uri": "https://localhost:8080/"
        },
        "outputId": "77a7a366-fadd-4efa-f8b6-ca6b7325af55"
      },
      "execution_count": 20,
      "outputs": [
        {
          "output_type": "stream",
          "name": "stdout",
          "text": [
            "[True, False, True, True]\n"
          ]
        }
      ]
    },
    {
      "cell_type": "code",
      "source": [
        "########################################################################\n",
        "## POR HACER por los estudiantes\n",
        "## Completa todos los ... en el código debajo y quita la siguiente línea\n",
        "# raise NotImplementedError(\"Convierte a dataframe e imprìmelo.\")\n",
        "########################################################################\n",
        "\n",
        "tablaTHEN = {'A': A, 'B': B, 'A then B': AthenB}\n",
        "tablaTHEN_df = pd.DataFrame(tablaTHEN)\n",
        "\n",
        "print(tablaTHEN_df)"
      ],
      "metadata": {
        "id": "sSJFV0TlSZts",
        "colab": {
          "base_uri": "https://localhost:8080/"
        },
        "outputId": "fd8ad525-c86c-4be9-e917-eac16298e3a0"
      },
      "execution_count": 21,
      "outputs": [
        {
          "output_type": "stream",
          "name": "stdout",
          "text": [
            "       A      B  A then B\n",
            "0   True   True      True\n",
            "1   True  False     False\n",
            "2  False   True      True\n",
            "3  False  False      True\n"
          ]
        }
      ]
    },
    {
      "cell_type": "markdown",
      "source": [
        "**Observación:** Es equivalente a la operación lógica $\\neg A \\vee B$"
      ],
      "metadata": {
        "id": "ClJW7Avhp3Ll"
      }
    },
    {
      "cell_type": "code",
      "source": [
        "########################################################################\n",
        "## POR HACER por los estudiantes\n",
        "## Completa todos los ... en el código debajo y quita la siguiente línea\n",
        "# raise NotImplementedError(\"Aplica el operador lógico.\")\n",
        "########################################################################\n",
        "\n",
        "notA    = [None]*4\n",
        "notAorB = [None]*4\n",
        "\n",
        "for i in range(4):\n",
        "  notA[i]    = not A[i]\n",
        "  notAorB[i] = notA[i] or B[i]\n",
        "\n",
        "print(notAorB)"
      ],
      "metadata": {
        "id": "LhZP0fAfqBal",
        "colab": {
          "base_uri": "https://localhost:8080/"
        },
        "outputId": "5466ab16-f6e5-44af-d8a5-97ae268c87fd"
      },
      "execution_count": 22,
      "outputs": [
        {
          "output_type": "stream",
          "name": "stdout",
          "text": [
            "[True, False, True, True]\n"
          ]
        }
      ]
    },
    {
      "cell_type": "code",
      "source": [
        "########################################################################\n",
        "## POR HACER por los estudiantes\n",
        "## Completa todos los ... en el código debajo y quita la siguiente línea\n",
        "# raise NotImplementedError(\"Convierte a dataframe e imprìmelo.\")\n",
        "########################################################################\n",
        "\n",
        "tablaCOMPUESTA = {'A': A, 'B': B, 'not A': notA, 'not A or B': notAorB}\n",
        "tablaCOMPUESTA_df = pd.DataFrame(tablaCOMPUESTA)\n",
        "\n",
        "print(tablaCOMPUESTA_df)\n",
        "print(tablaTHEN_df)"
      ],
      "metadata": {
        "id": "zVDAqVKjqb0C",
        "colab": {
          "base_uri": "https://localhost:8080/"
        },
        "outputId": "6b0aabc3-e441-4ffe-8ec7-af6ccc89228b"
      },
      "execution_count": 23,
      "outputs": [
        {
          "output_type": "stream",
          "name": "stdout",
          "text": [
            "       A      B  not A  not A or B\n",
            "0   True   True  False        True\n",
            "1   True  False  False       False\n",
            "2  False   True   True        True\n",
            "3  False  False   True        True\n",
            "       A      B  A then B\n",
            "0   True   True      True\n",
            "1   True  False     False\n",
            "2  False   True      True\n",
            "3  False  False      True\n"
          ]
        }
      ]
    },
    {
      "cell_type": "markdown",
      "source": [
        "### Bicondicional (IFF)\n",
        "La tabla de verdad asociada a la operación booleana `iff` es la siguiente:\n",
        "\n",
        "|  A  |  B  | A iff B |\n",
        "|:---:|:---:|:-------:|\n",
        "|  T  |  T  |    T    |\n",
        "|  T  |  F  |    F    |\n",
        "|  F  |  T  |    F    |\n",
        "|  F  |  F  |    T    |"
      ],
      "metadata": {
        "id": "p2GmoydHSjpO"
      }
    },
    {
      "cell_type": "code",
      "source": [
        "########################################################################\n",
        "## POR HACER por los estudiantes\n",
        "## Completa todos los ... en el código debajo y quita la siguiente línea\n",
        "# raise NotImplementedError(\"Aplica el operador lógico.\")\n",
        "########################################################################\n",
        "\n",
        "AiffB = [None]*4\n",
        "for i in range(4):\n",
        "  AiffB[i] = A[i] == B[i]\n",
        "\n",
        "print(AiffB)"
      ],
      "metadata": {
        "id": "6hylw-BnSjC4",
        "colab": {
          "base_uri": "https://localhost:8080/"
        },
        "outputId": "5e176cef-a151-4a4f-bc8d-86c07ef70faf"
      },
      "execution_count": 24,
      "outputs": [
        {
          "output_type": "stream",
          "name": "stdout",
          "text": [
            "[True, False, False, True]\n"
          ]
        }
      ]
    },
    {
      "cell_type": "code",
      "source": [
        "########################################################################\n",
        "## POR HACER por los estudiantes\n",
        "## Completa todos los ... en el código debajo y quita la siguiente línea\n",
        "# raise NotImplementedError(\"Aplica el operador lógico.\")\n",
        "########################################################################\n",
        "\n",
        "# Segunda forma\n",
        "AiffB = [None]*4\n",
        "for i in range(4):\n",
        "  AiffB[i] = A[i] <= B[i] and B[i] <= A[i]\n",
        "\n",
        "print(AiffB)"
      ],
      "metadata": {
        "colab": {
          "base_uri": "https://localhost:8080/"
        },
        "id": "zfz760DaXB71",
        "outputId": "c7b10713-e768-46d4-bd7f-ba3ffb44d468"
      },
      "execution_count": 25,
      "outputs": [
        {
          "output_type": "stream",
          "name": "stdout",
          "text": [
            "[True, False, False, True]\n"
          ]
        }
      ]
    },
    {
      "cell_type": "code",
      "source": [
        "########################################################################\n",
        "## POR HACER por los estudiantes\n",
        "## Completa todos los ... en el código debajo y quita la siguiente línea\n",
        "# raise NotImplementedError(\"Aplica el operador lógico.\")\n",
        "########################################################################\n",
        "\n",
        "# Tercera forma\n",
        "AiffB = [None]*4\n",
        "for i in range(4):\n",
        "  AiffB[i] = not(A[i] ^ B[i])\n",
        "\n",
        "print(AiffB)"
      ],
      "metadata": {
        "colab": {
          "base_uri": "https://localhost:8080/"
        },
        "id": "NzNwkzy3XUIZ",
        "outputId": "ed22d2dd-8ca4-47c1-b30b-454b946dfc9c"
      },
      "execution_count": 26,
      "outputs": [
        {
          "output_type": "stream",
          "name": "stdout",
          "text": [
            "[True, False, False, True]\n"
          ]
        }
      ]
    },
    {
      "cell_type": "code",
      "source": [
        "########################################################################\n",
        "## POR HACER por los estudiantes\n",
        "## Completa todos los ... en el código debajo y quita la siguiente línea\n",
        "# raise NotImplementedError(\"Convierte a dataframe e imprìmelo.\")\n",
        "########################################################################\n",
        "\n",
        "tablaIFF = {'A': A, 'B': B, 'A then B': AiffB}\n",
        "tablaIFF_df = pd.DataFrame(tablaIFF)\n",
        "\n",
        "print(tablaIFF_df)"
      ],
      "metadata": {
        "id": "Edvf1SYKS10X",
        "colab": {
          "base_uri": "https://localhost:8080/"
        },
        "outputId": "9aec3c25-6415-4f0e-d8e7-db0925017671"
      },
      "execution_count": 27,
      "outputs": [
        {
          "output_type": "stream",
          "name": "stdout",
          "text": [
            "       A      B  A then B\n",
            "0   True   True      True\n",
            "1   True  False     False\n",
            "2  False   True     False\n",
            "3  False  False      True\n"
          ]
        }
      ]
    },
    {
      "cell_type": "markdown",
      "source": [
        "**Observación:** Es equivalente a la operación XNOR."
      ],
      "metadata": {
        "id": "QcDXprk0o7vd"
      }
    },
    {
      "cell_type": "code",
      "source": [
        "print(tablaXNOR_df)"
      ],
      "metadata": {
        "id": "uo8jvT-2pAQk",
        "colab": {
          "base_uri": "https://localhost:8080/"
        },
        "outputId": "5cbbe823-eacc-4d69-93de-639b41901e70"
      },
      "execution_count": 28,
      "outputs": [
        {
          "output_type": "stream",
          "name": "stdout",
          "text": [
            "       A      B  A xnor B\n",
            "0   True   True      True\n",
            "1   True  False     False\n",
            "2  False   True     False\n",
            "3  False  False      True\n"
          ]
        }
      ]
    },
    {
      "cell_type": "markdown",
      "source": [
        "## Ejercicios de Lógica Proposicional\n",
        "\n",
        "Escribe código que obtenga los valores de verdad de las siguientes proposiciones:\n",
        "1. $a \\wedge \\neg b$\n",
        "2. $(a \\wedge b) \\wedge \\neg a$\n",
        "3. $\\neg p \\vee \\neg(q \\wedge r)$\n",
        "4. $\\neg (p \\wedge q) \\vee (\\neg q \\vee r)$\n",
        "\n",
        "Recordatorio: Usar las variables `A` y `B` cuando se usen dos proposiciones y `P`, `Q`, `R` cuando se usen tres proposiciones"
      ],
      "metadata": {
        "id": "j9Bvd8iaVHi2"
      }
    },
    {
      "cell_type": "code",
      "source": [
        "########################################################################\n",
        "## POR HACER por los estudiantes\n",
        "## Escribe el código que genere la tabla de verdad para el ejercicio 1)\n",
        "# raise NotImplementedError(\"Contesta el ejercicio 1.\")\n",
        "########################################################################\n",
        "\n",
        "# a∧¬b\n",
        "\n",
        "AanB = []\n",
        "nB = []\n",
        "\n",
        "for i in range(len(A)):\n",
        "  nB.append(not B[i])\n",
        "  AanB.append(A[i] and nB[i])\n",
        "\n",
        "AanB"
      ],
      "metadata": {
        "id": "J_oTs2OPXoFv",
        "colab": {
          "base_uri": "https://localhost:8080/"
        },
        "outputId": "ab46abc0-43c4-4d8c-baa6-955806d0781b"
      },
      "execution_count": 67,
      "outputs": [
        {
          "output_type": "execute_result",
          "data": {
            "text/plain": [
              "[False, True, False, False]"
            ]
          },
          "metadata": {},
          "execution_count": 67
        }
      ]
    },
    {
      "cell_type": "code",
      "source": [
        "tablaAanB = {'A': A, 'B': B, 'not B': nB, 'A and (not B)': AanB}\n",
        "tablaAanB_df = pd.DataFrame(tablaAanB)\n",
        "\n",
        "print(tablaAanB_df)"
      ],
      "metadata": {
        "colab": {
          "base_uri": "https://localhost:8080/"
        },
        "id": "WXBiXzF9bwaD",
        "outputId": "ad1bb69c-bc10-4b19-cd46-999d080a6392"
      },
      "execution_count": 68,
      "outputs": [
        {
          "output_type": "stream",
          "name": "stdout",
          "text": [
            "       A      B  not B  A and (not B)\n",
            "0   True   True  False          False\n",
            "1   True  False   True           True\n",
            "2  False   True  False          False\n",
            "3  False  False   True          False\n"
          ]
        }
      ]
    },
    {
      "cell_type": "code",
      "source": [
        "########################################################################\n",
        "## POR HACER por los estudiantes\n",
        "## Escribe el código que genere la tabla de verdad para el ejercicio 2)\n",
        "# raise NotImplementedError(\"Contesta el ejercicio 2.\")\n",
        "########################################################################\n",
        "\n",
        "# (a∧b)∧¬a\n",
        "AaBanA = []\n",
        "nA = []\n",
        "\n",
        "for i in range(len(A)):\n",
        "  nA.append(not A[i])\n",
        "  AaBanA.append(AandB[i] and nA[i])\n",
        "\n",
        "print(AaBanA)"
      ],
      "metadata": {
        "id": "jG0TZORFXojs",
        "colab": {
          "base_uri": "https://localhost:8080/"
        },
        "outputId": "9ec6069b-539e-45aa-e849-3aee5c4d24b4"
      },
      "execution_count": 69,
      "outputs": [
        {
          "output_type": "stream",
          "name": "stdout",
          "text": [
            "[False, False, False, False]\n"
          ]
        }
      ]
    },
    {
      "cell_type": "code",
      "source": [
        "print(tablaAND_df)\n",
        "\n",
        "tablaAaBanA = {'A and B': AandB, 'not A': nA, '(A and B) and (not A)': AaBanA}\n",
        "tablaAaBanA_df = pd.DataFrame(tablaAaBanA)\n",
        "\n",
        "print(tablaAaBanA_df)"
      ],
      "metadata": {
        "colab": {
          "base_uri": "https://localhost:8080/"
        },
        "id": "b-9I9A4csKpc",
        "outputId": "091a7c3c-b4bf-4fb1-e2d6-aeff2f51a61c"
      },
      "execution_count": 71,
      "outputs": [
        {
          "output_type": "stream",
          "name": "stdout",
          "text": [
            "       A      B  A and B\n",
            "0   True   True     True\n",
            "1   True  False    False\n",
            "2  False   True    False\n",
            "3  False  False    False\n",
            "   A and B  not A  (A and B) and (not A)\n",
            "0     True  False                  False\n",
            "1    False  False                  False\n",
            "2    False   True                  False\n",
            "3    False   True                  False\n"
          ]
        }
      ]
    },
    {
      "cell_type": "code",
      "source": [
        "_########################################################################\n",
        "## POR HACER por los estudiantes\n",
        "## Escribe el código que genere la tabla de verdad para el ejercicio 3)\n",
        "# raise NotImplementedError(\"Contesta el ejercicio 3.\")\n",
        "########################################################################\n",
        "\n",
        "# ¬p∨¬(q∧r)\n",
        "\n",
        "nP = []\n",
        "QaR = []\n",
        "nQaR = []\n",
        "nPonQaR = []\n",
        "\n",
        "for i in range(len(Q)):\n",
        "  nP.append(not P[i])\n",
        "  QaR.append(Q[i] and R[i])\n",
        "  nQaR.append(not QaR[i])\n",
        "  nPonQaR.append(nP[i] or nQaR[i])\n",
        "  \n",
        "nPonQaR"
      ],
      "metadata": {
        "id": "e8q47pN6Xozl",
        "colab": {
          "base_uri": "https://localhost:8080/"
        },
        "outputId": "f9682a84-7c8d-486b-c2e7-fe23d61e1d49"
      },
      "execution_count": 75,
      "outputs": [
        {
          "output_type": "execute_result",
          "data": {
            "text/plain": [
              "[False, True, True, True, True, True, True, True]"
            ]
          },
          "metadata": {},
          "execution_count": 75
        }
      ]
    },
    {
      "cell_type": "code",
      "source": [
        "tablanPonQaR = { 'P': P,'Q': Q,'R': R,'Q and R': QaR,'not P': nP,'not (Q and R)': nQaR,'not P or (not(Q and R))': nPonQaR }\n",
        "tablanPonQaR_df = pd.DataFrame(tablanPonQaR)\n",
        "\n",
        "print(tablanPonQaR_df)"
      ],
      "metadata": {
        "colab": {
          "base_uri": "https://localhost:8080/"
        },
        "id": "q9FGr-KFu6rJ",
        "outputId": "6dc2ce24-1f80-4f85-9431-ee0e19bba825"
      },
      "execution_count": 77,
      "outputs": [
        {
          "output_type": "stream",
          "name": "stdout",
          "text": [
            "       P      Q      R  Q and R  not P  not (Q and R)  not P or (not(Q and R))\n",
            "0   True   True   True     True  False          False                    False\n",
            "1   True   True  False    False  False           True                     True\n",
            "2   True  False   True    False  False           True                     True\n",
            "3   True  False  False    False  False           True                     True\n",
            "4  False   True   True     True   True          False                     True\n",
            "5  False   True  False    False   True           True                     True\n",
            "6  False  False   True    False   True           True                     True\n",
            "7  False  False  False    False   True           True                     True\n"
          ]
        }
      ]
    },
    {
      "cell_type": "code",
      "source": [
        "########################################################################\n",
        "## POR HACER por los estudiantes\n",
        "## Escribe el código que genere la tabla de verdad para el ejercicio 4)\n",
        "# raise NotImplementedError(\"Contesta el ejercicio 4.\")\n",
        "########################################################################\n",
        "\n",
        "# ¬(p∧q)∨(¬q∨r)\n",
        "PaQ = []\n",
        "nPaQ = []\n",
        "nQ = []\n",
        "nQoR = []\n",
        "nPaQonQoR = []\n",
        "\n",
        "for i in range(len(P)):\n",
        "  PaQ.append(P[i] and Q[i])\n",
        "  nPaQ.append(not PaQ[i])\n",
        "  nQ.append(not Q[i])\n",
        "  nQoR.append(nQ[i] or R[i])\n",
        "  nPaQonQoR.append(nPaQ[i] or nQoR[i])\n",
        "\n",
        "nPaQonQoR"
      ],
      "metadata": {
        "id": "CP8aUinZXpYR",
        "colab": {
          "base_uri": "https://localhost:8080/"
        },
        "outputId": "a3d1fbb8-38e2-4496-d368-db221acf55c4"
      },
      "execution_count": 78,
      "outputs": [
        {
          "output_type": "execute_result",
          "data": {
            "text/plain": [
              "[True, False, True, True, True, True, True, True]"
            ]
          },
          "metadata": {},
          "execution_count": 78
        }
      ]
    },
    {
      "cell_type": "code",
      "source": [
        "tablanPaQonQoR = { 'P': P,'R': R,'Q': Q,'not Q': nQ,'P and Q': PaQ,'not(P and Q)': nPaQ,'(not Q) or R': nQoR,'not(P and Q) or ((not Q) or R)': nPaQonQoR }\n",
        "tablanPaQonQoR_df = pd.DataFrame(tablanPaQonQoR)\n",
        "\n",
        "print(tablanPaQonQoR_df)"
      ],
      "metadata": {
        "colab": {
          "base_uri": "https://localhost:8080/"
        },
        "id": "k5hEMisL1alA",
        "outputId": "28c3d09b-7c12-48f7-aefa-03de55d93a00"
      },
      "execution_count": 80,
      "outputs": [
        {
          "output_type": "stream",
          "name": "stdout",
          "text": [
            "       P      R      Q  not Q  P and Q  not(P and Q)  (not Q) or R  \\\n",
            "0   True   True   True  False     True         False          True   \n",
            "1   True  False   True  False     True         False         False   \n",
            "2   True   True  False   True    False          True          True   \n",
            "3   True  False  False   True    False          True          True   \n",
            "4  False   True   True  False    False          True          True   \n",
            "5  False  False   True  False    False          True         False   \n",
            "6  False   True  False   True    False          True          True   \n",
            "7  False  False  False   True    False          True          True   \n",
            "\n",
            "   not(P and Q) or ((not Q) or R)  \n",
            "0                            True  \n",
            "1                           False  \n",
            "2                            True  \n",
            "3                            True  \n",
            "4                            True  \n",
            "5                            True  \n",
            "6                            True  \n",
            "7                            True  \n"
          ]
        }
      ]
    },
    {
      "cell_type": "markdown",
      "source": [
        "# Teoría de Conjuntos"
      ],
      "metadata": {
        "id": "JTDO1wsdgI6I"
      }
    },
    {
      "cell_type": "markdown",
      "source": [
        "## Repaso de Teoría de Conjuntos\n",
        "\n",
        "Recordemos que las operaciones en conjuntos son:\n",
        "1. Cardinalidad\n",
        "2. Complemento (equivalente al NOT)\n",
        "3. Igualdad (equivalente al Buffer)\n",
        "4. Intersección (equivalente al AND)\n",
        "5. Unión (equivalente al OR)\n",
        "6. Diferencia\n",
        "7. Diferencia simétrica (equivalente al XOR)\n",
        "8. Producto Cartesiano\n",
        "\n",
        "Para repasar estos conceptos, vamos a crear:\n",
        "- Nuestro conjunto universo `setU` formado por todos los números naturales del 1 al 100\n",
        "- `setA` formado por todos los números pares (es decir, múltiplos de 2) del universo\n",
        "- `setB` formado por todos los números que son múltiplos de 3\n",
        "- `setC` formado por todos los números que son múltiplos de 5"
      ],
      "metadata": {
        "id": "79RSrJuVzMl7"
      }
    },
    {
      "cell_type": "code",
      "source": [
        "########################################################################\n",
        "## POR HACER por los estudiantes\n",
        "## Completa todos los ... en el código debajo y quita la siguiente línea\n",
        "# raise NotImplementedError(\"Construye los conjuntos mencionados arriba.\")\n",
        "########################################################################\n",
        "\n",
        "setU = []\n",
        "setA = []\n",
        "setB = []\n",
        "setC = []\n",
        "\n",
        "for i in range(101):\n",
        "  setU.append(i)\n",
        "  if(i % 2 == 0):\n",
        "    setA.append(i)\n",
        "  if(i % 3 == 0):\n",
        "    setB.append(i)\n",
        "  if(i % 5 == 0):\n",
        "    setC.append(i)\n",
        "\n",
        "setU = set(setU)\n",
        "setA = set(setA)\n",
        "setB = set(setB)\n",
        "setC = set(setC)\n",
        "\n",
        "setC"
      ],
      "metadata": {
        "id": "BNhJ0tQygh5I",
        "colab": {
          "base_uri": "https://localhost:8080/"
        },
        "outputId": "46ce08f7-a52a-471a-f714-9c2054022da0"
      },
      "execution_count": 34,
      "outputs": [
        {
          "output_type": "execute_result",
          "data": {
            "text/plain": [
              "{0,\n",
              " 5,\n",
              " 10,\n",
              " 15,\n",
              " 20,\n",
              " 25,\n",
              " 30,\n",
              " 35,\n",
              " 40,\n",
              " 45,\n",
              " 50,\n",
              " 55,\n",
              " 60,\n",
              " 65,\n",
              " 70,\n",
              " 75,\n",
              " 80,\n",
              " 85,\n",
              " 90,\n",
              " 95,\n",
              " 100}"
            ]
          },
          "metadata": {},
          "execution_count": 34
        }
      ]
    },
    {
      "cell_type": "markdown",
      "source": [
        "### Cardinalidad\n",
        "\n",
        "Nos devuelve el tamaño del conjunto. Para obtener la cardinalidad en Python nos apoyamos de la función `len(...)`.\n",
        "\n",
        "Escribe un código que nos muestre el tamaño del conjunto `setC`."
      ],
      "metadata": {
        "id": "TXcpGI_Wxo0a"
      }
    },
    {
      "cell_type": "code",
      "source": [
        "########################################################################\n",
        "## POR HACER por los estudiantes\n",
        "## Completa todos los ... en el código debajo y quita la siguiente línea\n",
        "# raise NotImplementedError(\"Obtén la cardinalidad de setC.\")\n",
        "########################################################################\n",
        "\n",
        "len(setC)"
      ],
      "metadata": {
        "id": "j3HtDGRuyAAh",
        "colab": {
          "base_uri": "https://localhost:8080/"
        },
        "outputId": "5cde6f2a-bef4-458c-cb97-7a56c9666fe3"
      },
      "execution_count": 35,
      "outputs": [
        {
          "output_type": "execute_result",
          "data": {
            "text/plain": [
              "21"
            ]
          },
          "metadata": {},
          "execution_count": 35
        }
      ]
    },
    {
      "cell_type": "markdown",
      "source": [
        "### Intersección (equivalente al AND)\n",
        "\n",
        "Nos devuelve los valores que estén tanto en A como en B. Para usar esta operación en Python, utilizamos el operador `&`.\n",
        "\n",
        "Escribe un código que una los elementos de `setA` con los de `setB`. ¿Qué características tienen estos elementos?"
      ],
      "metadata": {
        "id": "iyK49QjbmEv8"
      }
    },
    {
      "cell_type": "code",
      "source": [
        "########################################################################\n",
        "## POR HACER por los estudiantes\n",
        "## Completa todos los ... en el código debajo y quita la siguiente línea\n",
        "# raise NotImplementedError(\"Realiza la intersección de conjuntos setA con setB.\")\n",
        "########################################################################\n",
        "\n",
        "setA & setB"
      ],
      "metadata": {
        "id": "KD7yY3bvvoxe",
        "colab": {
          "base_uri": "https://localhost:8080/"
        },
        "outputId": "5be94458-4ff4-4b59-96dc-7a152e7348d8"
      },
      "execution_count": 36,
      "outputs": [
        {
          "output_type": "execute_result",
          "data": {
            "text/plain": [
              "{0, 6, 12, 18, 24, 30, 36, 42, 48, 54, 60, 66, 72, 78, 84, 90, 96}"
            ]
          },
          "metadata": {},
          "execution_count": 36
        }
      ]
    },
    {
      "cell_type": "markdown",
      "source": [
        "### Unión (equivalente al OR)\n",
        "\n",
        "Nos devuelve los valores que estén en A o que estén en B (o ambos). Para usar esta operación en Python, utilizamos el operador `|`.\n",
        "\n",
        "Escribe un código que te una los elementos del conjunto `setB` con el conjunto `setC`."
      ],
      "metadata": {
        "id": "werDSgVfmOcL"
      }
    },
    {
      "cell_type": "code",
      "source": [
        "########################################################################\n",
        "## POR HACER por los estudiantes\n",
        "## Completa todos los ... en el código debajo y quita la siguiente línea\n",
        "# raise NotImplementedError(\"Realiza la unión de conjuntos setB con setC.\")\n",
        "########################################################################\n",
        "\n",
        "setB | setC"
      ],
      "metadata": {
        "id": "xam2p2c0vjqn",
        "colab": {
          "base_uri": "https://localhost:8080/"
        },
        "outputId": "daac8c39-18cc-479f-86af-ec7c7957a113"
      },
      "execution_count": 37,
      "outputs": [
        {
          "output_type": "execute_result",
          "data": {
            "text/plain": [
              "{0,\n",
              " 3,\n",
              " 5,\n",
              " 6,\n",
              " 9,\n",
              " 10,\n",
              " 12,\n",
              " 15,\n",
              " 18,\n",
              " 20,\n",
              " 21,\n",
              " 24,\n",
              " 25,\n",
              " 27,\n",
              " 30,\n",
              " 33,\n",
              " 35,\n",
              " 36,\n",
              " 39,\n",
              " 40,\n",
              " 42,\n",
              " 45,\n",
              " 48,\n",
              " 50,\n",
              " 51,\n",
              " 54,\n",
              " 55,\n",
              " 57,\n",
              " 60,\n",
              " 63,\n",
              " 65,\n",
              " 66,\n",
              " 69,\n",
              " 70,\n",
              " 72,\n",
              " 75,\n",
              " 78,\n",
              " 80,\n",
              " 81,\n",
              " 84,\n",
              " 85,\n",
              " 87,\n",
              " 90,\n",
              " 93,\n",
              " 95,\n",
              " 96,\n",
              " 99,\n",
              " 100}"
            ]
          },
          "metadata": {},
          "execution_count": 37
        }
      ]
    },
    {
      "cell_type": "markdown",
      "source": [
        "### Diferencia\n",
        "\n",
        "La diferencia de A con B ($A - B$) nos devuelven los valores que estén en A pero que no estén en B. Para usar esta operación en Python, utilizamos el método `.difference(...)`, donde en colocaremos el conjunto que queramos restar.\n",
        "\n",
        "Escribe un código que te regrese la diferencia del conjunto `setU` con el conjunto `setA`. ¿Qué valores te están dando?"
      ],
      "metadata": {
        "id": "gGbQveZgmQfM"
      }
    },
    {
      "cell_type": "code",
      "source": [
        "########################################################################\n",
        "## POR HACER por los estudiantes\n",
        "## Completa todos los ... en el código debajo y quita la siguiente línea\n",
        "# raise NotImplementedError(\"Realiza la resta de conjuntos setU-setA.\")\n",
        "########################################################################\n",
        "\n",
        "setU.difference(setA)"
      ],
      "metadata": {
        "id": "ZXtYj8faukJ9",
        "colab": {
          "base_uri": "https://localhost:8080/"
        },
        "outputId": "143a84a3-bdc8-463c-dae3-c09f2f16494b"
      },
      "execution_count": 38,
      "outputs": [
        {
          "output_type": "execute_result",
          "data": {
            "text/plain": [
              "{1,\n",
              " 3,\n",
              " 5,\n",
              " 7,\n",
              " 9,\n",
              " 11,\n",
              " 13,\n",
              " 15,\n",
              " 17,\n",
              " 19,\n",
              " 21,\n",
              " 23,\n",
              " 25,\n",
              " 27,\n",
              " 29,\n",
              " 31,\n",
              " 33,\n",
              " 35,\n",
              " 37,\n",
              " 39,\n",
              " 41,\n",
              " 43,\n",
              " 45,\n",
              " 47,\n",
              " 49,\n",
              " 51,\n",
              " 53,\n",
              " 55,\n",
              " 57,\n",
              " 59,\n",
              " 61,\n",
              " 63,\n",
              " 65,\n",
              " 67,\n",
              " 69,\n",
              " 71,\n",
              " 73,\n",
              " 75,\n",
              " 77,\n",
              " 79,\n",
              " 81,\n",
              " 83,\n",
              " 85,\n",
              " 87,\n",
              " 89,\n",
              " 91,\n",
              " 93,\n",
              " 95,\n",
              " 97,\n",
              " 99}"
            ]
          },
          "metadata": {},
          "execution_count": 38
        }
      ]
    },
    {
      "cell_type": "markdown",
      "source": [
        "Escribe un código que te regrese la diferencia del conjunto `setA` con el conjunto `setC`. ¿Qué valores te están dando?"
      ],
      "metadata": {
        "id": "koLsEq4lwBzv"
      }
    },
    {
      "cell_type": "code",
      "source": [
        "########################################################################\n",
        "## POR HACER por los estudiantes\n",
        "## Completa todos los ... en el código debajo y quita la siguiente línea\n",
        "# raise NotImplementedError(\"Realiza la resta de conjuntos setA-setC.\")\n",
        "########################################################################\n",
        "\n",
        "setA.difference(setC)"
      ],
      "metadata": {
        "id": "pFAXPBbjwLyY",
        "colab": {
          "base_uri": "https://localhost:8080/"
        },
        "outputId": "22d278f0-3457-4b58-82a7-dc6d802e83fc"
      },
      "execution_count": 39,
      "outputs": [
        {
          "output_type": "execute_result",
          "data": {
            "text/plain": [
              "{2,\n",
              " 4,\n",
              " 6,\n",
              " 8,\n",
              " 12,\n",
              " 14,\n",
              " 16,\n",
              " 18,\n",
              " 22,\n",
              " 24,\n",
              " 26,\n",
              " 28,\n",
              " 32,\n",
              " 34,\n",
              " 36,\n",
              " 38,\n",
              " 42,\n",
              " 44,\n",
              " 46,\n",
              " 48,\n",
              " 52,\n",
              " 54,\n",
              " 56,\n",
              " 58,\n",
              " 62,\n",
              " 64,\n",
              " 66,\n",
              " 68,\n",
              " 72,\n",
              " 74,\n",
              " 76,\n",
              " 78,\n",
              " 82,\n",
              " 84,\n",
              " 86,\n",
              " 88,\n",
              " 92,\n",
              " 94,\n",
              " 96,\n",
              " 98}"
            ]
          },
          "metadata": {},
          "execution_count": 39
        }
      ]
    },
    {
      "cell_type": "markdown",
      "source": [
        "###Diferencia Simétrica (equivalente al XOR)\n",
        "\n",
        "La diferencia de A con B ($A \\triangle B$) nos devuelven los valores que estén en A ó que estén B pero que no estén en ambos. Para usar esta operación en Python, utilizamos el método `.symmetric_difference(...)`, donde en colocaremos el conjunto que queramos restar.\n",
        "\n",
        "Escribe un código que te regrese la diferencia simétrica del conjunto `setA` con el conjunto `setC`. ¿Qué valores te están dando? ¿Son distintos a lo que obtuvimos en la celda anterior?"
      ],
      "metadata": {
        "id": "vzukbXpemSyD"
      }
    },
    {
      "cell_type": "code",
      "source": [
        "########################################################################\n",
        "## POR HACER por los estudiantes\n",
        "## Completa todos los ... en el código debajo y quita la siguiente línea\n",
        "# raise NotImplementedError(\"Realiza la resta simétrica de conjuntos setA y setC.\")\n",
        "########################################################################\n",
        "\n",
        "setA.symmetric_difference(setC)"
      ],
      "metadata": {
        "id": "otjY_Q7IwVKN",
        "colab": {
          "base_uri": "https://localhost:8080/"
        },
        "outputId": "d11882cd-a28f-4ded-b315-934b2b3f61da"
      },
      "execution_count": 40,
      "outputs": [
        {
          "output_type": "execute_result",
          "data": {
            "text/plain": [
              "{2,\n",
              " 4,\n",
              " 5,\n",
              " 6,\n",
              " 8,\n",
              " 12,\n",
              " 14,\n",
              " 15,\n",
              " 16,\n",
              " 18,\n",
              " 22,\n",
              " 24,\n",
              " 25,\n",
              " 26,\n",
              " 28,\n",
              " 32,\n",
              " 34,\n",
              " 35,\n",
              " 36,\n",
              " 38,\n",
              " 42,\n",
              " 44,\n",
              " 45,\n",
              " 46,\n",
              " 48,\n",
              " 52,\n",
              " 54,\n",
              " 55,\n",
              " 56,\n",
              " 58,\n",
              " 62,\n",
              " 64,\n",
              " 65,\n",
              " 66,\n",
              " 68,\n",
              " 72,\n",
              " 74,\n",
              " 75,\n",
              " 76,\n",
              " 78,\n",
              " 82,\n",
              " 84,\n",
              " 85,\n",
              " 86,\n",
              " 88,\n",
              " 92,\n",
              " 94,\n",
              " 95,\n",
              " 96,\n",
              " 98}"
            ]
          },
          "metadata": {},
          "execution_count": 40
        }
      ]
    },
    {
      "cell_type": "markdown",
      "source": [
        "### Producto Cartesiano\n",
        "\n",
        "El producto cartesiano nos arroja los pares ordenados de los elementos de dos conjuntos. En Python nos apoyaremos de la función `product(..., ...)` de la paquetería `itertools` para obtener el producto cartesiano.\n",
        "\n",
        "Para que no sea tan grande el resultado, corre la siguiente celda para obtener `setD` con `setE` ($D \\times E$) y después implementa el producto cartesiano entre estos dos nuevos conjuntos."
      ],
      "metadata": {
        "id": "SC-hTCOezlh1"
      }
    },
    {
      "cell_type": "code",
      "source": [
        "setD = set([\"Alberto\",\"Beatriz\",\"Carlos\",\"Diana\"])\n",
        "setE = set([\"amarillo\",\"rojo\",\"azul\"])\n",
        "setF = set(['Mercurio','Júpiter','Plutón'])"
      ],
      "metadata": {
        "id": "y6rekQIi4E9T"
      },
      "execution_count": 41,
      "outputs": []
    },
    {
      "cell_type": "code",
      "source": [
        "########################################################################\n",
        "## POR HACER por los estudiantes\n",
        "## Completa todos los ... en el código debajo y quita la siguiente línea\n",
        "# raise NotImplementedError(\"Obtén el producto cartesiano entre los conjuntos setD y setC.\")\n",
        "########################################################################\n",
        "\n",
        "productoCartesianoDE = []\n",
        "\n",
        "for element in itertools.product(setD, setE):\n",
        "    productoCartesianoDE.append(element)\n",
        "\n",
        "productoCartesianoDE = set(productoCartesianoDE)\n",
        "\n",
        "productoCartesianoDE"
      ],
      "metadata": {
        "id": "frqEafsazlFz",
        "colab": {
          "base_uri": "https://localhost:8080/"
        },
        "outputId": "0c6a38fb-111c-4627-dc7e-ec4b8ede88b3"
      },
      "execution_count": 42,
      "outputs": [
        {
          "output_type": "execute_result",
          "data": {
            "text/plain": [
              "{('Alberto', 'amarillo'),\n",
              " ('Alberto', 'azul'),\n",
              " ('Alberto', 'rojo'),\n",
              " ('Beatriz', 'amarillo'),\n",
              " ('Beatriz', 'azul'),\n",
              " ('Beatriz', 'rojo'),\n",
              " ('Carlos', 'amarillo'),\n",
              " ('Carlos', 'azul'),\n",
              " ('Carlos', 'rojo'),\n",
              " ('Diana', 'amarillo'),\n",
              " ('Diana', 'azul'),\n",
              " ('Diana', 'rojo')}"
            ]
          },
          "metadata": {},
          "execution_count": 42
        }
      ]
    },
    {
      "cell_type": "markdown",
      "source": [
        "Corre la siguiente celda para obtener $E \\times D$. ¿Es igual este producto a lo que obtuvimos anteriormente?"
      ],
      "metadata": {
        "id": "ycDNUtE95JH3"
      }
    },
    {
      "cell_type": "code",
      "source": [
        "########################################################################\n",
        "# Sólo ejecuta esta celda. No es necesario escribir nada.\n",
        "########################################################################\n",
        "\n",
        "productoCartesianoED = []\n",
        "\n",
        "for element in itertools.product(setE, setD):\n",
        "    productoCartesianoED.append(element)\n",
        "\n",
        "productoCartesianoED = set(productoCartesianoED)\n",
        "\n",
        "productoCartesianoED"
      ],
      "metadata": {
        "id": "p0VmEUKu4ZlA",
        "colab": {
          "base_uri": "https://localhost:8080/"
        },
        "outputId": "9e27c1d9-f30c-4314-c4a2-07676b049c27"
      },
      "execution_count": 43,
      "outputs": [
        {
          "output_type": "execute_result",
          "data": {
            "text/plain": [
              "{('amarillo', 'Alberto'),\n",
              " ('amarillo', 'Beatriz'),\n",
              " ('amarillo', 'Carlos'),\n",
              " ('amarillo', 'Diana'),\n",
              " ('azul', 'Alberto'),\n",
              " ('azul', 'Beatriz'),\n",
              " ('azul', 'Carlos'),\n",
              " ('azul', 'Diana'),\n",
              " ('rojo', 'Alberto'),\n",
              " ('rojo', 'Beatriz'),\n",
              " ('rojo', 'Carlos'),\n",
              " ('rojo', 'Diana')}"
            ]
          },
          "metadata": {},
          "execution_count": 43
        }
      ]
    },
    {
      "cell_type": "markdown",
      "source": [
        "Escribe en la siguiente celda el código que usarías para comparar ambos conjuntos y determinar si son los mismos o no."
      ],
      "metadata": {
        "id": "K9xoANnt53f9"
      }
    },
    {
      "cell_type": "code",
      "source": [
        "productoCartesianoDE == productoCartesianoED"
      ],
      "metadata": {
        "id": "clCKfT0p41lc",
        "colab": {
          "base_uri": "https://localhost:8080/"
        },
        "outputId": "c5739d47-bf07-4627-c8ce-5a5a2fe1440c"
      },
      "execution_count": 44,
      "outputs": [
        {
          "output_type": "execute_result",
          "data": {
            "text/plain": [
              "False"
            ]
          },
          "metadata": {},
          "execution_count": 44
        }
      ]
    },
    {
      "cell_type": "code",
      "source": [
        "\n",
        "productoCartesianoEDF = []\n",
        "\n",
        "for element in itertools.product(setE, setD, setF):\n",
        "    productoCartesianoEDF.append(element)\n",
        "\n",
        "productoCartesianoEDF = set(productoCartesianoEDF)\n",
        "\n",
        "productoCartesianoEDF"
      ],
      "metadata": {
        "colab": {
          "base_uri": "https://localhost:8080/"
        },
        "id": "_hgETHObeBhP",
        "outputId": "36d64d55-ee65-4582-fb55-bbeddc3923a7"
      },
      "execution_count": 45,
      "outputs": [
        {
          "output_type": "execute_result",
          "data": {
            "text/plain": [
              "{('amarillo', 'Alberto', 'Júpiter'),\n",
              " ('amarillo', 'Alberto', 'Mercurio'),\n",
              " ('amarillo', 'Alberto', 'Plutón'),\n",
              " ('amarillo', 'Beatriz', 'Júpiter'),\n",
              " ('amarillo', 'Beatriz', 'Mercurio'),\n",
              " ('amarillo', 'Beatriz', 'Plutón'),\n",
              " ('amarillo', 'Carlos', 'Júpiter'),\n",
              " ('amarillo', 'Carlos', 'Mercurio'),\n",
              " ('amarillo', 'Carlos', 'Plutón'),\n",
              " ('amarillo', 'Diana', 'Júpiter'),\n",
              " ('amarillo', 'Diana', 'Mercurio'),\n",
              " ('amarillo', 'Diana', 'Plutón'),\n",
              " ('azul', 'Alberto', 'Júpiter'),\n",
              " ('azul', 'Alberto', 'Mercurio'),\n",
              " ('azul', 'Alberto', 'Plutón'),\n",
              " ('azul', 'Beatriz', 'Júpiter'),\n",
              " ('azul', 'Beatriz', 'Mercurio'),\n",
              " ('azul', 'Beatriz', 'Plutón'),\n",
              " ('azul', 'Carlos', 'Júpiter'),\n",
              " ('azul', 'Carlos', 'Mercurio'),\n",
              " ('azul', 'Carlos', 'Plutón'),\n",
              " ('azul', 'Diana', 'Júpiter'),\n",
              " ('azul', 'Diana', 'Mercurio'),\n",
              " ('azul', 'Diana', 'Plutón'),\n",
              " ('rojo', 'Alberto', 'Júpiter'),\n",
              " ('rojo', 'Alberto', 'Mercurio'),\n",
              " ('rojo', 'Alberto', 'Plutón'),\n",
              " ('rojo', 'Beatriz', 'Júpiter'),\n",
              " ('rojo', 'Beatriz', 'Mercurio'),\n",
              " ('rojo', 'Beatriz', 'Plutón'),\n",
              " ('rojo', 'Carlos', 'Júpiter'),\n",
              " ('rojo', 'Carlos', 'Mercurio'),\n",
              " ('rojo', 'Carlos', 'Plutón'),\n",
              " ('rojo', 'Diana', 'Júpiter'),\n",
              " ('rojo', 'Diana', 'Mercurio'),\n",
              " ('rojo', 'Diana', 'Plutón')}"
            ]
          },
          "metadata": {},
          "execution_count": 45
        }
      ]
    }
  ]
}